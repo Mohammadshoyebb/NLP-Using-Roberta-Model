{
  "nbformat": 4,
  "nbformat_minor": 0,
  "metadata": {
    "colab": {
      "provenance": []
    },
    "kernelspec": {
      "name": "python3",
      "display_name": "Python 3"
    },
    "language_info": {
      "name": "python"
    }
  },
  "cells": [
    {
      "cell_type": "code",
      "execution_count": null,
      "metadata": {
        "colab": {
          "base_uri": "https://localhost:8080/"
        },
        "id": "3U7MexJPIISM",
        "outputId": "cbc4de67-5032-40cb-d47d-bf8936b5022a"
      },
      "outputs": [
        {
          "output_type": "stream",
          "name": "stdout",
          "text": [
            "Requirement already satisfied: scipy in /usr/local/lib/python3.10/dist-packages (1.11.4)\n",
            "Requirement already satisfied: numpy<1.28.0,>=1.21.6 in /usr/local/lib/python3.10/dist-packages (from scipy) (1.25.2)\n"
          ]
        }
      ],
      "source": [
        "#Output of the model to transform into probability scores\n",
        "\n",
        "!pip install scipy"
      ]
    },
    {
      "cell_type": "code",
      "source": [
        "from transformers import AutoTokenizer,AutoModelForSequenceClassification\n",
        "from scipy.special import softmax\n",
        "\n"
      ],
      "metadata": {
        "id": "RztRLPrMIVJ_"
      },
      "execution_count": null,
      "outputs": []
    },
    {
      "cell_type": "code",
      "source": [
        "tweet = \"@MehranShakarami today's cold @ home 😀😃🥲 https://mehranshakarami.com\""
      ],
      "metadata": {
        "id": "7uaNnSieKb-c"
      },
      "execution_count": null,
      "outputs": []
    },
    {
      "cell_type": "code",
      "source": [
        "# precprcess tweet\n",
        "tweet_words = []\n",
        "for word in tweet.split(' '):\n",
        "  if word.startswith('@') and len(word) > 1:\n",
        "    word = '@user'\n",
        "  elif word.startswith('http'):\n",
        "    word = \"http\"\n",
        "  tweet_words.append (word)"
      ],
      "metadata": {
        "id": "1Y14EymMMCwJ"
      },
      "execution_count": null,
      "outputs": []
    },
    {
      "cell_type": "code",
      "source": [
        "#Printing Tweets as a list\n",
        "print(tweet_words)"
      ],
      "metadata": {
        "colab": {
          "base_uri": "https://localhost:8080/"
        },
        "id": "0f_II4mOMSo_",
        "outputId": "1e6c91c8-a11d-4231-9195-7eb205acf06a"
      },
      "execution_count": null,
      "outputs": [
        {
          "output_type": "stream",
          "name": "stdout",
          "text": [
            "['@user', \"today's\", 'cold', '@', 'home', '😀😃🥲', 'http']\n"
          ]
        }
      ]
    },
    {
      "cell_type": "code",
      "source": [
        "#Tweets after removing mentions and links\n",
        "tweet_proc = \" \". join(tweet_words)\n",
        "print(tweet_proc)"
      ],
      "metadata": {
        "colab": {
          "base_uri": "https://localhost:8080/"
        },
        "id": "Fs09KuhjMzML",
        "outputId": "e7ba8824-86f3-406f-9b22-1e8845172acb"
      },
      "execution_count": null,
      "outputs": [
        {
          "output_type": "stream",
          "name": "stdout",
          "text": [
            "@user today's cold @ home 😀😃🥲 http\n"
          ]
        }
      ]
    },
    {
      "cell_type": "code",
      "source": [
        "# load model and tokenizer\n",
        "roberta = \"cardiffnlp/twitter-roberta-base-sentiment\"\n",
        "\n",
        "model = AutoModelForSequenceClassification.from_pretrained (roberta)\n",
        "tokenizer = AutoTokenizer.from_pretrained(roberta)\n",
        "\n",
        "lables = ['Negative', 'Neutral', 'Positive']"
      ],
      "metadata": {
        "id": "d4wvclKTNUMK"
      },
      "execution_count": null,
      "outputs": []
    },
    {
      "cell_type": "code",
      "source": [
        "# sentiment analysis\n",
        "encoded_tweet = tokenizer(tweet_proc,return_tensors='pt')\n",
        "print(encoded_tweet)"
      ],
      "metadata": {
        "colab": {
          "base_uri": "https://localhost:8080/"
        },
        "id": "3mhKNSD5Obwm",
        "outputId": "22f64722-15c4-41b8-9e23-e2e8f186e50a"
      },
      "execution_count": null,
      "outputs": [
        {
          "output_type": "stream",
          "name": "stdout",
          "text": [
            "{'input_ids': tensor([[    0,  1039, 12105,   452,    18,  2569,   787,   184, 17841,  7471,\n",
            "         18636,   862,  6569,  8210, 14292,  2054,     2]]), 'attention_mask': tensor([[1, 1, 1, 1, 1, 1, 1, 1, 1, 1, 1, 1, 1, 1, 1, 1, 1]])}\n"
          ]
        }
      ]
    },
    {
      "cell_type": "code",
      "source": [
        "output = model(encoded_tweet['input_ids'],encoded_tweet['attention_mask'])\n",
        "#output = model(**encoded_tweet) ###########Works same as above line code works\n",
        "print(output)"
      ],
      "metadata": {
        "colab": {
          "base_uri": "https://localhost:8080/"
        },
        "id": "j-sF4rZlO9rR",
        "outputId": "b1ffe741-c9d4-48f6-842e-38d088a98d6b"
      },
      "execution_count": null,
      "outputs": [
        {
          "output_type": "stream",
          "name": "stdout",
          "text": [
            "SequenceClassifierOutput(loss=None, logits=tensor([[-2.6662,  0.8794,  1.9428]], grad_fn=<AddmmBackward0>), hidden_states=None, attentions=None)\n"
          ]
        }
      ]
    },
    {
      "cell_type": "code",
      "source": [
        "#Sentiment Analysis\n",
        "scores = output[0][0].detach().numpy()\n",
        "scores = softmax(scores)\n",
        "\n",
        "for i in range(len(scores)):\n",
        "  l = lables[i]\n",
        "  s = scores[i]\n",
        "  print(l,s)"
      ],
      "metadata": {
        "colab": {
          "base_uri": "https://localhost:8080/"
        },
        "id": "sNMMD3y2PkIe",
        "outputId": "28b1f932-6468-464a-a995-ec05d03524b4"
      },
      "execution_count": null,
      "outputs": [
        {
          "output_type": "stream",
          "name": "stdout",
          "text": [
            "Negative 0.007350401\n",
            "Neutral 0.25478286\n",
            "Positive 0.73786676\n"
          ]
        }
      ]
    },
    {
      "cell_type": "code",
      "source": [],
      "metadata": {
        "id": "mQC7t_TjQxPb"
      },
      "execution_count": null,
      "outputs": []
    }
  ]
}